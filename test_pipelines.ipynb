{
 "cells": [
  {
   "cell_type": "code",
   "execution_count": 5,
   "metadata": {},
   "outputs": [],
   "source": [
    "import pandas as pd\n",
    "import numpy as np\n",
    "from copy import deepcopy\n",
    "from sklearn.model_selection import train_test_split"
   ]
  },
  {
   "cell_type": "code",
   "execution_count": 4,
   "metadata": {},
   "outputs": [],
   "source": [
    "# Create Function To Process"
   ]
  },
  {
   "cell_type": "code",
   "execution_count": 6,
   "metadata": {},
   "outputs": [],
   "source": [
    "#Only columns we'll look into\n",
    "cols_to_use = ['watchlist_count', 'trending_score', 'sentiment_change', 'volume_change', 'processing_time', 'volume', 'price_change', 'close']"
   ]
  },
  {
   "cell_type": "code",
   "execution_count": 8,
   "metadata": {},
   "outputs": [],
   "source": [
    "def preprocess_dataframe(df, cols_to_use = cols_to_use):\n",
    "    #create stock_id and time column to sort\n",
    "    df['temp_sort'] = df['st_id'].astype(str) + ' ' +df['Date']\n",
    "    \n",
    "    #sort whole df with that \n",
    "    df = df.sort_values(by=['temp_sort'])\n",
    "\n",
    "    #Create Price Change column\n",
    "    df['price_change'] = df['close'].pct_change()\n",
    "    \n",
    "    #the first instance is always 0\n",
    "    df['price_change'].fillna(0, inplace=True)\n",
    "    \n",
    "    #save index\n",
    "    df_index = df['_id']\n",
    "    df = df.set_index('_id')\n",
    "\n",
    "    df1 = deepcopy(df[cols_to_use]\n",
    "    return df1"
   ]
  },
  {
   "cell_type": "code",
   "execution_count": 10,
   "metadata": {},
   "outputs": [],
   "source": [
    "def preprocess_minmax(df):\n",
    "    '''\n",
    "    we can put the different scalers\n",
    "    and have user pick the name of the scaler and automatically scale\n",
    "    we would instruct user to import all scalers first\n",
    "    \n",
    "    '''\n",
    "    #save index first\n",
    "    df_index = df.index\n",
    "    df_cols = list(df.columns)\n",
    "\n",
    "    #pick scaler\n",
    "    scaler = MinMaxScaler()\n",
    "    \n",
    "    #fit scaler to dataframe\n",
    "    scaler.fit(df)\n",
    "\n",
    "    #transform and save\n",
    "    df = scaler.transform(df)\n",
    "    \n",
    "    #turn into dataframe\n",
    "    df= pd.DataFrame(df)\n",
    "\n",
    "    df['_id'] = df_index\n",
    "\n",
    "    df = df.set_index('_id')\n",
    "    return df\n",
    "    \n",
    "    \n",
    "    "
   ]
  },
  {
   "cell_type": "code",
   "execution_count": 13,
   "metadata": {},
   "outputs": [],
   "source": [
    "def shuffle_n_split(df):\n",
    "    # Shuffle\n",
    "    df = df.sample(frac = 1)\n",
    "\n",
    "    #shuffle and split\n",
    "    X = df[df.columns.difference(['close'])]\n",
    "    y = df['close']\n",
    "\n",
    "    X_train, X_test, y_train, y_test = train_test_split(\n",
    "        X, y, test_size=0.2, random_state=42)\n",
    "    \n",
    "    return X, y, X_train, X_test, y_train, y_test\n",
    "\n"
   ]
  },
  {
   "cell_type": "code",
   "execution_count": null,
   "metadata": {},
   "outputs": [],
   "source": [
    "\n"
   ]
  },
  {
   "cell_type": "code",
   "execution_count": null,
   "metadata": {},
   "outputs": [],
   "source": [
    "#Scikit Learn process\n",
    "CCL = preprocess_dataframe(CCL, cols_to_use)\n",
    "CCL = all_stocks_intraday_df[all_stocks_intraday_df['st_id'] == 4681]\n",
    "X, y, X_train, X_test, y_train, y_test = shuffle_n_split(CCL)\n",
    "\n",
    "X_train = preprocess_minmax(X_train)\n",
    "X_test = preprocess_minmax(X_test)\n",
    "\n",
    "regr = LinearRegression()\n",
    "regr.fit(X_train, y_train)\n",
    "y_pred = regr.predict(X_test)\n",
    "mse = mean_squared_error(y_pred, y_test)\n",
    "rmse = mse**.5\n",
    "y_test.describe()"
   ]
  },
  {
   "cell_type": "code",
   "execution_count": null,
   "metadata": {},
   "outputs": [],
   "source": [
    "#statmodels\n"
   ]
  },
  {
   "cell_type": "code",
   "execution_count": null,
   "metadata": {},
   "outputs": [],
   "source": []
  },
  {
   "cell_type": "code",
   "execution_count": null,
   "metadata": {},
   "outputs": [],
   "source": []
  },
  {
   "cell_type": "code",
   "execution_count": null,
   "metadata": {},
   "outputs": [],
   "source": []
  },
  {
   "cell_type": "code",
   "execution_count": null,
   "metadata": {},
   "outputs": [],
   "source": [
    "# regr = LinearRegression()\n",
    "# regr.fit(X_train, y_train)\n",
    "# y_pred = regr.predict(X_test)\n",
    "# mse = mean_squared_error(y_pred, y_test)\n",
    "# mse**.5\n",
    "# y_test.describe()"
   ]
  },
  {
   "cell_type": "code",
   "execution_count": null,
   "metadata": {},
   "outputs": [],
   "source": [
    "# statsmodel approach\n",
    "train_set = X_train.merge(pd.DataFrame(y_train), left_index = True, right_index = True)\n",
    "# pd.merge(X_train, X_test, join = 'inner', on= 'index')\n",
    "\n",
    "predictors = '+'.join(train_set.columns.difference(['close']))\n",
    "my_formula = 'close ~' + predictors\n",
    "lin_reg_fit = sm.ols(formula = my_formula, data = train_set).fit()\n",
    "lin_reg_fit.summary()"
   ]
  },
  {
   "cell_type": "code",
   "execution_count": null,
   "metadata": {},
   "outputs": [],
   "source": []
  },
  {
   "cell_type": "code",
   "execution_count": null,
   "metadata": {},
   "outputs": [],
   "source": []
  },
  {
   "cell_type": "code",
   "execution_count": null,
   "metadata": {},
   "outputs": [],
   "source": []
  },
  {
   "cell_type": "code",
   "execution_count": null,
   "metadata": {},
   "outputs": [],
   "source": []
  }
 ],
 "metadata": {
  "kernelspec": {
   "display_name": "Python 3",
   "language": "python",
   "name": "python3"
  },
  "language_info": {
   "codemirror_mode": {
    "name": "ipython",
    "version": 3
   },
   "file_extension": ".py",
   "mimetype": "text/x-python",
   "name": "python",
   "nbconvert_exporter": "python",
   "pygments_lexer": "ipython3",
   "version": "3.7.4"
  },
  "toc": {
   "base_numbering": 1,
   "nav_menu": {},
   "number_sections": true,
   "sideBar": true,
   "skip_h1_title": false,
   "title_cell": "Table of Contents",
   "title_sidebar": "Contents",
   "toc_cell": false,
   "toc_position": {},
   "toc_section_display": true,
   "toc_window_display": true
  }
 },
 "nbformat": 4,
 "nbformat_minor": 2
}
