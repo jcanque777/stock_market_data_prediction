{
 "cells": [
  {
   "cell_type": "code",
   "execution_count": 5,
   "metadata": {},
   "outputs": [],
   "source": [
    "import pandas as pd\n",
    "import numpy as np\n",
    "from copy import deepcopy"
   ]
  },
  {
   "cell_type": "code",
   "execution_count": 4,
   "metadata": {},
   "outputs": [],
   "source": [
    "# Create Function To Process"
   ]
  },
  {
   "cell_type": "code",
   "execution_count": 6,
   "metadata": {},
   "outputs": [],
   "source": [
    "#Only columns we'll look into\n",
    "cols_to_use = ['watchlist_count', 'trending_score', 'sentiment_change', 'volume_change', 'processing_time', 'volume', 'price_change', 'close']"
   ]
  },
  {
   "cell_type": "code",
   "execution_count": 8,
   "metadata": {},
   "outputs": [],
   "source": [
    "def preprocess_dataframe(df, cols_to_use = cols_to_use):\n",
    "    #create stock_id and time column to sort\n",
    "    df['temp_sort'] = df['st_id'].astype(str) + ' ' +df['Date']\n",
    "    \n",
    "    #sort whole df with that \n",
    "    df = df.sort_values(by=['temp_sort'])\n",
    "\n",
    "    #Create Price Change column\n",
    "    df['price_change'] = df['close'].pct_change()\n",
    "    \n",
    "    #the first instance is always 0\n",
    "    df['price_change'].fillna(0, inplace=True)\n",
    "    \n",
    "    #save index\n",
    "    df_index = df['_id']\n",
    "    df = df.set_index('_id')\n",
    "\n",
    "    df1 = deepcopy(df[cols_to_use]\n",
    "    return df1"
   ]
  },
  {
   "cell_type": "code",
   "execution_count": null,
   "metadata": {},
   "outputs": [],
   "source": [
    "#test with 2nd "
   ]
  },
  {
   "cell_type": "code",
   "execution_count": null,
   "metadata": {},
   "outputs": [],
   "source": []
  },
  {
   "cell_type": "code",
   "execution_count": null,
   "metadata": {},
   "outputs": [],
   "source": []
  },
  {
   "cell_type": "code",
   "execution_count": null,
   "metadata": {},
   "outputs": [],
   "source": []
  },
  {
   "cell_type": "code",
   "execution_count": null,
   "metadata": {},
   "outputs": [],
   "source": []
  },
  {
   "cell_type": "code",
   "execution_count": null,
   "metadata": {},
   "outputs": [],
   "source": [
    "    #save index values\n",
    "    df1_index = df1.index\n",
    "\n",
    "    scaler = MinMaxScaler()\n",
    "\n",
    "    scaler.fit(df1)\n",
    "\n",
    "    df1 = scaler.transform(df1)\n",
    "\n",
    "    df1= pd.DataFrame(df1)\n",
    "\n",
    "    df1.columns = cols_to_use\n",
    "\n",
    "    df1['_id'] = df1_index\n",
    "\n",
    "    df1 = df1.set_index('_id')\n",
    "    "
   ]
  }
 ],
 "metadata": {
  "kernelspec": {
   "display_name": "Python 3",
   "language": "python",
   "name": "python3"
  },
  "language_info": {
   "codemirror_mode": {
    "name": "ipython",
    "version": 3
   },
   "file_extension": ".py",
   "mimetype": "text/x-python",
   "name": "python",
   "nbconvert_exporter": "python",
   "pygments_lexer": "ipython3",
   "version": "3.7.4"
  },
  "toc": {
   "base_numbering": 1,
   "nav_menu": {},
   "number_sections": true,
   "sideBar": true,
   "skip_h1_title": false,
   "title_cell": "Table of Contents",
   "title_sidebar": "Contents",
   "toc_cell": false,
   "toc_position": {},
   "toc_section_display": true,
   "toc_window_display": true
  }
 },
 "nbformat": 4,
 "nbformat_minor": 2
}
